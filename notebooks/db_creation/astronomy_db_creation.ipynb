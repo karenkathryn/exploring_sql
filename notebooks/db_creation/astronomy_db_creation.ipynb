{
 "cells": [
  {
   "cell_type": "markdown",
   "metadata": {},
   "source": [
    "# Creating a database\n",
    "The goal of this notebook is to creat a database (astronomy.db) with several tables. The database will be used in later notebooks for practice with querying.\n",
    "## Preliminaries"
   ]
  },
  {
   "cell_type": "markdown",
   "metadata": {},
   "source": [
    "Import any necessary moduels."
   ]
  },
  {
   "cell_type": "code",
   "execution_count": 37,
   "metadata": {},
   "outputs": [],
   "source": [
    "import sqlite3 "
   ]
  },
  {
   "cell_type": "markdown",
   "metadata": {},
   "source": [
    "Open a connection to an SQL database file. (A new db file will be created when we connect.)"
   ]
  },
  {
   "cell_type": "code",
   "execution_count": 38,
   "metadata": {},
   "outputs": [],
   "source": [
    "conn = sqlite3.connect('astronomy.db')"
   ]
  },
  {
   "cell_type": "markdown",
   "metadata": {},
   "source": [
    "Connect a cursor to the database."
   ]
  },
  {
   "cell_type": "code",
   "execution_count": 39,
   "metadata": {},
   "outputs": [],
   "source": [
    "cur_black_holes = conn.cursor()\n",
    "cur_solar_system_20 = conn.cursor()\n",
    "cur_planets = conn.cursor()"
   ]
  },
  {
   "cell_type": "markdown",
   "metadata": {},
   "source": [
    "## Create tables"
   ]
  },
  {
   "cell_type": "markdown",
   "metadata": {},
   "source": [
    "Create the black holes table."
   ]
  },
  {
   "cell_type": "code",
   "execution_count": 28,
   "metadata": {},
   "outputs": [
    {
     "data": {
      "text/plain": [
       "<sqlite3.Cursor at 0x111512960>"
      ]
     },
     "execution_count": 28,
     "metadata": {},
     "output_type": "execute_result"
    }
   ],
   "source": [
    "cur_black_holes.execute(\"\"\"\n",
    "    CREATE TABLE IF NOT EXISTS black_holes (\n",
    "    num INT, \n",
    "    name TEXT, \n",
    "    base_mass INT, \n",
    "    power INT\n",
    "    );\n",
    "    \"\"\")"
   ]
  },
  {
   "cell_type": "code",
   "execution_count": 29,
   "metadata": {},
   "outputs": [
    {
     "data": {
      "text/plain": [
       "<sqlite3.Cursor at 0x1115128f0>"
      ]
     },
     "execution_count": 29,
     "metadata": {},
     "output_type": "execute_result"
    }
   ],
   "source": [
    "cur_solar_system_20.execute(\"\"\"CREATE TABLE IF NOT EXISTS solar_system_20 (\n",
    "    num INT, \n",
    "    ss_name TEXT, \n",
    "    diameter INT, \n",
    "    classification TEXT,\n",
    "    ss_location TEXT\n",
    "    );\n",
    "    \"\"\")"
   ]
  },
  {
   "cell_type": "code",
   "execution_count": 40,
   "metadata": {},
   "outputs": [
    {
     "data": {
      "text/plain": [
       "<sqlite3.Cursor at 0x111512b20>"
      ]
     },
     "execution_count": 40,
     "metadata": {},
     "output_type": "execute_result"
    }
   ],
   "source": [
    "cur_planets.execute(\"\"\"CREATE TABLE IF NOT EXISTS planets (\n",
    "    planet_no INT, \n",
    "    name TEXT, \n",
    "    color TEXT, \n",
    "    mass FLOAT,\n",
    "    distance FLOAT\n",
    "    );\n",
    "    \"\"\")"
   ]
  },
  {
   "cell_type": "markdown",
   "metadata": {},
   "source": [
    "## Insert data into the tables"
   ]
  },
  {
   "cell_type": "code",
   "execution_count": 30,
   "metadata": {},
   "outputs": [
    {
     "data": {
      "text/plain": [
       "<sqlite3.Cursor at 0x111512960>"
      ]
     },
     "execution_count": 30,
     "metadata": {},
     "output_type": "execute_result"
    }
   ],
   "source": [
    "cur_black_holes.execute(\"\"\"INSERT INTO black_holes(num, name, base_mass, power)\n",
    "    VALUES\n",
    "        (1, 'M104 - Sombrero Galaxy', 1, 9),\n",
    "        (2, 'M31 - Andromeda Galaxy', 1, 8),\n",
    "        (3, 'NGC 4889', 1, 10),\n",
    "        (4, 'Cygnus X-1', 15, 0);\n",
    "    \"\"\")"
   ]
  },
  {
   "cell_type": "code",
   "execution_count": 31,
   "metadata": {},
   "outputs": [
    {
     "data": {
      "text/plain": [
       "<sqlite3.Cursor at 0x1115128f0>"
      ]
     },
     "execution_count": 31,
     "metadata": {},
     "output_type": "execute_result"
    }
   ],
   "source": [
    "cur_solar_system_20.execute(\"\"\"INSERT INTO solar_system_20(num, ss_name, diameter, classification, ss_location) VALUES\n",
    "    (1, 'Sun', 865000, 'star', 'close to the center of the Solar System'),\n",
    "    (2, 'Jupiter', 88846, 'planet', '5th planet from the Sun'),\n",
    "    (3, 'Saturn', 74900, 'planet', '6th planet from the Sun'),\n",
    "    (4, 'Uranus', 31763, 'planet', '7th planet from the Sun'),\n",
    "    (5, 'Neptune', 30779, 'planet', '8th planet from the Sun'),\n",
    "    (6, 'Earth', 7926, 'planet', '3th planet from the Sun'),\n",
    "    (7, 'Venus', 7521, 'planet', '2nd planet from the Sun'),\n",
    "    (8, 'Mars', 4222, 'planet', '4th planet from the Sun'),\n",
    "    (9, 'Ganymede', 3270, 'moon', 'orbiting Jupiter'),\n",
    "    (10, 'Titan', 3200, 'moon', 'orbiting Saturn'),\n",
    "    (11, 'Mercury', 3031, 'planet', 'closest planet to the Sun'),\n",
    "    (12, 'Callisto', 2996, 'moon', 'orbiting Jupiter'),\n",
    "    (13, 'Io', 2264, 'moon', 'orbiting Jupiter'),\n",
    "    (14, 'The Moon', 2159, 'moon', 'orbiting Earth'),\n",
    "    (15, 'Europa', 1940, 'moon', 'orbiting Jupiter'),\n",
    "    (16, 'Triton', 1680, 'moon', 'orbiting Neptune'),\n",
    "    (17, 'Pluto', 1473, 'dwarf planet', 'beyond Neptune'),\n",
    "    (18, 'Eris', 1445, 'dwarf planet', 'beyond Neptune'),\n",
    "    (19, 'Titana', 982, 'moon', 'orbiting Uranus'),\n",
    "    (20, 'Rhea', 949, 'moon', 'orbiting Saturn');\n",
    "\"\"\")"
   ]
  },
  {
   "cell_type": "code",
   "execution_count": 43,
   "metadata": {},
   "outputs": [
    {
     "data": {
      "text/plain": [
       "<sqlite3.Cursor at 0x111512b20>"
      ]
     },
     "execution_count": 43,
     "metadata": {},
     "output_type": "execute_result"
    }
   ],
   "source": [
    "cur_planets.execute(\"\"\"INSERT INTO planets(planet_no, name, color, mass, distance) VALUES\n",
    "    (1, 'Mercury', 'gray', 0.6, 0.39),\n",
    "    (2, 'Venus', 'yellow', 0.8, 0.72),\n",
    "    (3, 'Earth', 'blue', 1, 1),\n",
    "    (4, 'Mars', 'red', 0.1, 1.52),\n",
    "    (5, 'Jupiter', 'orange', 318, 5.20),\n",
    "    (6, 'Saturn', 'light yellow', 95, 9.53),\n",
    "    (7, 'Uranus', 'light blue', 15, 19.19),\n",
    "    (8, 'Neptune', 'dark blue', 17, 30.06);\n",
    "    \"\"\")"
   ]
  },
  {
   "cell_type": "markdown",
   "metadata": {},
   "source": [
    "Check that there is data in the tables through a query."
   ]
  },
  {
   "cell_type": "code",
   "execution_count": 32,
   "metadata": {},
   "outputs": [
    {
     "data": {
      "text/plain": [
       "[(1, 'M104 - Sombrero Galaxy', 1, 9),\n",
       " (2, 'M31 - Andromeda Galaxy', 1, 8),\n",
       " (3, 'NGC 4889', 1, 10),\n",
       " (4, 'Cygnus X-1', 15, 0),\n",
       " (1, 'M104 - Sombrero Galaxy', 1, 9),\n",
       " (2, 'M31 - Andromeda Galaxy', 1, 8),\n",
       " (3, 'NGC 4889', 1, 10),\n",
       " (4, 'Cygnus X-1', 15, 0),\n",
       " (1, 'M104 - Sombrero Galaxy', 1, 9),\n",
       " (2, 'M31 - Andromeda Galaxy', 1, 8),\n",
       " (3, 'NGC 4889', 1, 10),\n",
       " (4, 'Cygnus X-1', 15, 0),\n",
       " (1, 'M104 - Sombrero Galaxy', 1, 9),\n",
       " (2, 'M31 - Andromeda Galaxy', 1, 8),\n",
       " (3, 'NGC 4889', 1, 10),\n",
       " (4, 'Cygnus X-1', 15, 0)]"
      ]
     },
     "execution_count": 32,
     "metadata": {},
     "output_type": "execute_result"
    }
   ],
   "source": [
    "#check\n",
    "query = \"\"\"SELECT * FROM black_holes;\"\"\"\n",
    "cur_black_holes.execute(query).fetchall()"
   ]
  },
  {
   "cell_type": "code",
   "execution_count": 33,
   "metadata": {},
   "outputs": [
    {
     "data": {
      "text/plain": [
       "[('dwarf planet', 6, 1445, 1473, 1459.0),\n",
       " ('moon', 21, 949, 2996, 1852.857142857143)]"
      ]
     },
     "execution_count": 33,
     "metadata": {},
     "output_type": "execute_result"
    }
   ],
   "source": [
    "query = \"\"\"SELECT classification, COUNT(*), MIN(diameter) AS min_diameter, MAX(diameter) AS max_diameter,  AVG(diameter) AS avg_diameter  FROM solar_system_20 WHERE diameter < 3000 GROUP BY classification HAVING COUNT(classification) > 2;\"\"\" \n",
    "cur_solar_system_20.execute(query).fetchall()"
   ]
  },
  {
   "cell_type": "markdown",
   "metadata": {},
   "source": [
    "## Commit the changes and close the connection\n",
    "Note: if we performed any operation on the database other than sending queries, we need to commit those changes via the '.commit()' method before we close the connection."
   ]
  },
  {
   "cell_type": "code",
   "execution_count": 44,
   "metadata": {},
   "outputs": [],
   "source": [
    "conn.commit()\n",
    "conn.close()"
   ]
  },
  {
   "cell_type": "code",
   "execution_count": null,
   "metadata": {},
   "outputs": [],
   "source": []
  }
 ],
 "metadata": {
  "kernelspec": {
   "display_name": "Python 3 (learn-env)",
   "language": "python",
   "name": "learn-env"
  },
  "language_info": {
   "codemirror_mode": {
    "name": "ipython",
    "version": 3
   },
   "file_extension": ".py",
   "mimetype": "text/x-python",
   "name": "python",
   "nbconvert_exporter": "python",
   "pygments_lexer": "ipython3",
   "version": "3.6.6"
  }
 },
 "nbformat": 4,
 "nbformat_minor": 2
}
