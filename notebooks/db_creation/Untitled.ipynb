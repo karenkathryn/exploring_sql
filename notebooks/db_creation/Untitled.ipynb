{
 "cells": [
  {
   "cell_type": "code",
   "execution_count": 7,
   "metadata": {},
   "outputs": [],
   "source": [
    "import sqlite3\n",
    "import pandas as pd\n",
    "conn = sqlite3.connect('astronomy.db')\n",
    "cur = conn.cursor()"
   ]
  },
  {
   "cell_type": "code",
   "execution_count": 9,
   "metadata": {},
   "outputs": [
    {
     "ename": "OperationalError",
     "evalue": "database is locked",
     "output_type": "error",
     "traceback": [
      "\u001b[0;31m---------------------------------------------------------------------------\u001b[0m",
      "\u001b[0;31mOperationalError\u001b[0m                          Traceback (most recent call last)",
      "\u001b[0;32m<ipython-input-9-abf297de682a>\u001b[0m in \u001b[0;36m<module>\u001b[0;34m\u001b[0m\n\u001b[1;32m     31\u001b[0m     \u001b[0;34m(\u001b[0m\u001b[0;36m20\u001b[0m\u001b[0;34m,\u001b[0m \u001b[0;34m'Rhea'\u001b[0m\u001b[0;34m,\u001b[0m \u001b[0;36m949\u001b[0m\u001b[0;34m,\u001b[0m \u001b[0;34m'moon'\u001b[0m\u001b[0;34m,\u001b[0m \u001b[0;34m'orbiting Saturn'\u001b[0m\u001b[0;34m)\u001b[0m\u001b[0;34m;\u001b[0m\u001b[0;34m\u001b[0m\u001b[0m\n\u001b[1;32m     32\u001b[0m     \"\"\"\n\u001b[0;32m---> 33\u001b[0;31m \u001b[0mcur\u001b[0m\u001b[0;34m.\u001b[0m\u001b[0mexecute\u001b[0m\u001b[0;34m(\u001b[0m\u001b[0mquery\u001b[0m\u001b[0;34m)\u001b[0m\u001b[0;34m\u001b[0m\u001b[0m\n\u001b[0m",
      "\u001b[0;31mOperationalError\u001b[0m: database is locked"
     ]
    }
   ],
   "source": [
    "query = \"\"\"\n",
    "    CREATE TABLE IF NOT EXISTS solar_system_20 (\n",
    "    num INT, \n",
    "    ss_name TEXT, \n",
    "    diameter INT, \n",
    "    classification TEXT,\n",
    "    ss_location TEXT\n",
    "    ); \"\"\"\n",
    "cur.execute(query)\n",
    "\n",
    "query = \"\"\" INSERT INTO solar_system_20(num, ss_name, diameter, classification, ss_location) VALUES\n",
    "    (1, 'Sun', 865000, 'star', 'close to the center of the Solar System'),\n",
    "    (2, 'Jupiter', 88846, 'planet', '5th planet from the Sun'),\n",
    "    (3, 'Saturn', 74900, 'planet', '6th planet from the Sun'),\n",
    "    (4, 'Uranus', 31763, 'planet', '7th planet from the Sun'),\n",
    "    (5, 'Neptune', 30779, 'planet', '8th planet from the Sun'),\n",
    "    (6, 'Earth', 7926, 'planet', '3th planet from the Sun'),\n",
    "    (7, 'Venus', 7521, 'planet', '2nd planet from the Sun'),\n",
    "    (8, 'Mars', 4222, 'planet', '4th planet from the Sun'),\n",
    "    (9, 'Ganymede', 3270, 'moon', 'orbiting Jupiter'),\n",
    "    (10, 'Titan', 3200, 'moon', 'orbiting Saturn'),\n",
    "    (11, 'Mercury', 3031, 'planet', 'closest planet to the Sun'),\n",
    "    (12, 'Callisto', 2996, 'moon', 'orbiting Jupiter'),\n",
    "    (13, 'Io', 2264, 'moon', 'orbiting Jupiter'),\n",
    "    (14, 'The Moon', 2159, 'moon', 'orbiting Earth'),\n",
    "    (15, 'Europa', 1940, 'moon', 'orbiting Jupiter'),\n",
    "    (16, 'Triton', 1680, 'moon', 'orbiting Neptune'),\n",
    "    (17, 'Pluto', 1473, 'dwarf planet', 'beyond Neptune'),\n",
    "    (18, 'Eris', 1445, 'dwarf planet', 'beyond Neptune'),\n",
    "    (19, 'Titana', 982, 'moon', 'orbiting Uranus'),\n",
    "    (20, 'Rhea', 949, 'moon', 'orbiting Saturn');\n",
    "    \"\"\"\n",
    "cur.execute(query)"
   ]
  },
  {
   "cell_type": "code",
   "execution_count": null,
   "metadata": {},
   "outputs": [],
   "source": [
    "df = pd.DataFrame(cur.fetchall())\n",
    "df.columns = [x[0] for x in cur.description]  # for column names\n",
    "df"
   ]
  },
  {
   "cell_type": "code",
   "execution_count": null,
   "metadata": {},
   "outputs": [],
   "source": []
  }
 ],
 "metadata": {
  "kernelspec": {
   "display_name": "Python (zipcode)",
   "language": "python",
   "name": "zipcode"
  },
  "language_info": {
   "codemirror_mode": {
    "name": "ipython",
    "version": 3
   },
   "file_extension": ".py",
   "mimetype": "text/x-python",
   "name": "python",
   "nbconvert_exporter": "python",
   "pygments_lexer": "ipython3",
   "version": "3.6.6"
  }
 },
 "nbformat": 4,
 "nbformat_minor": 2
}
