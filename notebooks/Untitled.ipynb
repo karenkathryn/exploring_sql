{
 "cells": [
  {
   "cell_type": "code",
   "execution_count": 1,
   "metadata": {},
   "outputs": [],
   "source": [
    "import sqlite3\n",
    "import pandas as pd"
   ]
  },
  {
   "cell_type": "code",
   "execution_count": 10,
   "metadata": {},
   "outputs": [],
   "source": [
    "conn = sqlite3.connect('db_creation/astronomy.db')"
   ]
  },
  {
   "cell_type": "code",
   "execution_count": 11,
   "metadata": {},
   "outputs": [],
   "source": [
    "cur = conn.cursor()"
   ]
  },
  {
   "cell_type": "code",
   "execution_count": 13,
   "metadata": {},
   "outputs": [
    {
     "data": {
      "text/plain": [
       "[(1, 'M104 - Sombrero Galaxy', 1, 9),\n",
       " (2, 'M31 - Andromeda Galaxy', 1, 8),\n",
       " (3, 'NGC 4889', 1, 10),\n",
       " (4, 'Cygnus X-1', 15, 0),\n",
       " (1, 'M104 - Sombrero Galaxy', 1, 9),\n",
       " (2, 'M31 - Andromeda Galaxy', 1, 8),\n",
       " (3, 'NGC 4889', 1, 10),\n",
       " (4, 'Cygnus X-1', 15, 0),\n",
       " (1, 'M104 - Sombrero Galaxy', 1, 9),\n",
       " (2, 'M31 - Andromeda Galaxy', 1, 8),\n",
       " (3, 'NGC 4889', 1, 10),\n",
       " (4, 'Cygnus X-1', 15, 0),\n",
       " (1, 'M104 - Sombrero Galaxy', 1, 9),\n",
       " (2, 'M31 - Andromeda Galaxy', 1, 8),\n",
       " (3, 'NGC 4889', 1, 10),\n",
       " (4, 'Cygnus X-1', 15, 0)]"
      ]
     },
     "execution_count": 13,
     "metadata": {},
     "output_type": "execute_result"
    }
   ],
   "source": [
    "# Select and display all the data in a pandas dataframe.\n",
    "query = \"\"\"\n",
    "        SELECT *\n",
    "        FROM black_holes;\n",
    "        \"\"\"\n",
    "cur.execute(query).fetchall()"
   ]
  },
  {
   "cell_type": "code",
   "execution_count": null,
   "metadata": {},
   "outputs": [],
   "source": []
  },
  {
   "cell_type": "code",
   "execution_count": null,
   "metadata": {},
   "outputs": [],
   "source": []
  }
 ],
 "metadata": {
  "kernelspec": {
   "display_name": "Python 3 (learn-env)",
   "language": "python",
   "name": "learn-env"
  },
  "language_info": {
   "codemirror_mode": {
    "name": "ipython",
    "version": 3
   },
   "file_extension": ".py",
   "mimetype": "text/x-python",
   "name": "python",
   "nbconvert_exporter": "python",
   "pygments_lexer": "ipython3",
   "version": "3.6.6"
  }
 },
 "nbformat": 4,
 "nbformat_minor": 2
}
